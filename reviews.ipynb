{
 "cells": [
  {
   "cell_type": "code",
   "execution_count": 1,
   "id": "0966904f-35fd-485c-915d-745f7c89140e",
   "metadata": {},
   "outputs": [],
   "source": [
    "import pandas as pd"
   ]
  },
  {
   "cell_type": "code",
   "execution_count": 2,
   "id": "f0ce142c-6c9b-4655-9fcc-56bcf3f39398",
   "metadata": {},
   "outputs": [],
   "source": [
    "data=pd.read_csv(\"reviews.csv\")"
   ]
  },
  {
   "cell_type": "code",
   "execution_count": 3,
   "id": "1fba37dc-a963-427f-92ff-d0d3c5e85439",
   "metadata": {},
   "outputs": [
    {
     "data": {
      "text/html": [
       "<div>\n",
       "<style scoped>\n",
       "    .dataframe tbody tr th:only-of-type {\n",
       "        vertical-align: middle;\n",
       "    }\n",
       "\n",
       "    .dataframe tbody tr th {\n",
       "        vertical-align: top;\n",
       "    }\n",
       "\n",
       "    .dataframe thead th {\n",
       "        text-align: right;\n",
       "    }\n",
       "</style>\n",
       "<table border=\"1\" class=\"dataframe\">\n",
       "  <thead>\n",
       "    <tr style=\"text-align: right;\">\n",
       "      <th></th>\n",
       "      <th>label</th>\n",
       "      <th>review</th>\n",
       "    </tr>\n",
       "  </thead>\n",
       "  <tbody>\n",
       "    <tr>\n",
       "      <th>0</th>\n",
       "      <td>cg</td>\n",
       "      <td>This product is acceptable.</td>\n",
       "    </tr>\n",
       "    <tr>\n",
       "      <th>1</th>\n",
       "      <td>cg</td>\n",
       "      <td>The item performs adequately.</td>\n",
       "    </tr>\n",
       "    <tr>\n",
       "      <th>2</th>\n",
       "      <td>cg</td>\n",
       "      <td>Functionality is satisfactory.</td>\n",
       "    </tr>\n",
       "    <tr>\n",
       "      <th>3</th>\n",
       "      <td>cg</td>\n",
       "      <td>Overall experience: positive.</td>\n",
       "    </tr>\n",
       "    <tr>\n",
       "      <th>4</th>\n",
       "      <td>cg</td>\n",
       "      <td>Meets minimum requirements.</td>\n",
       "    </tr>\n",
       "    <tr>\n",
       "      <th>...</th>\n",
       "      <td>...</td>\n",
       "      <td>...</td>\n",
       "    </tr>\n",
       "    <tr>\n",
       "      <th>1946</th>\n",
       "      <td>or</td>\n",
       "      <td>Someone gifted me this and honestly, I'm hooke...</td>\n",
       "    </tr>\n",
       "    <tr>\n",
       "      <th>1947</th>\n",
       "      <td>or</td>\n",
       "      <td>Searched everywhere for something like this! F...</td>\n",
       "    </tr>\n",
       "    <tr>\n",
       "      <th>1948</th>\n",
       "      <td>or</td>\n",
       "      <td>This little gadget made a huge difference in m...</td>\n",
       "    </tr>\n",
       "    <tr>\n",
       "      <th>1949</th>\n",
       "      <td>or</td>\n",
       "      <td>Had such high hopes for this, but it just didn...</td>\n",
       "    </tr>\n",
       "    <tr>\n",
       "      <th>1950</th>\n",
       "      <td>or</td>\n",
       "      <td>Based on my experience, I wouldn't recommend t...</td>\n",
       "    </tr>\n",
       "  </tbody>\n",
       "</table>\n",
       "<p>1951 rows × 2 columns</p>\n",
       "</div>"
      ],
      "text/plain": [
       "     label                                             review\n",
       "0       cg                        This product is acceptable.\n",
       "1       cg                      The item performs adequately.\n",
       "2       cg                     Functionality is satisfactory.\n",
       "3       cg                      Overall experience: positive.\n",
       "4       cg                        Meets minimum requirements.\n",
       "...    ...                                                ...\n",
       "1946    or  Someone gifted me this and honestly, I'm hooke...\n",
       "1947    or  Searched everywhere for something like this! F...\n",
       "1948    or  This little gadget made a huge difference in m...\n",
       "1949    or  Had such high hopes for this, but it just didn...\n",
       "1950    or  Based on my experience, I wouldn't recommend t...\n",
       "\n",
       "[1951 rows x 2 columns]"
      ]
     },
     "execution_count": 3,
     "metadata": {},
     "output_type": "execute_result"
    }
   ],
   "source": [
    "data "
   ]
  },
  {
   "cell_type": "code",
   "execution_count": 4,
   "id": "a7158a2c-00a0-4ef6-b5c7-53f3c94ae6cf",
   "metadata": {},
   "outputs": [
    {
     "data": {
      "text/plain": [
       "Index(['label', 'review'], dtype='object')"
      ]
     },
     "execution_count": 4,
     "metadata": {},
     "output_type": "execute_result"
    }
   ],
   "source": [
    "data.columns"
   ]
  },
  {
   "cell_type": "code",
   "execution_count": 5,
   "id": "956928e5-3ee8-4c1c-8578-40dc62802398",
   "metadata": {},
   "outputs": [
    {
     "data": {
      "text/plain": [
       "np.int64(73)"
      ]
     },
     "execution_count": 5,
     "metadata": {},
     "output_type": "execute_result"
    }
   ],
   "source": [
    "data.duplicated().sum()"
   ]
  },
  {
   "cell_type": "code",
   "execution_count": 6,
   "id": "b830c81d-81d7-4fd8-bba0-08bfc9fe99ba",
   "metadata": {},
   "outputs": [],
   "source": [
    "data = data.drop_duplicates(subset=['review'])"
   ]
  },
  {
   "cell_type": "code",
   "execution_count": 7,
   "id": "5fa59cea-a23c-44cb-aa75-02e7dd9a6035",
   "metadata": {},
   "outputs": [
    {
     "data": {
      "text/plain": [
       "label\n",
       "or    994\n",
       "cg    884\n",
       "Name: count, dtype: int64"
      ]
     },
     "execution_count": 7,
     "metadata": {},
     "output_type": "execute_result"
    }
   ],
   "source": [
    "data['label'].value_counts()"
   ]
  },
  {
   "cell_type": "code",
   "execution_count": 8,
   "id": "6afc48d4-6ecd-4350-8f0b-8a608b0ca9ed",
   "metadata": {},
   "outputs": [
    {
     "data": {
      "text/plain": [
       "review\n",
       "This product is acceptable.                                                  1\n",
       "The item performs adequately.                                                1\n",
       "Functionality is satisfactory.                                               1\n",
       "Overall experience: positive.                                                1\n",
       "Meets minimum requirements.                                                  1\n",
       "                                                                            ..\n",
       "Someone gifted me this and honestly, I'm hooked now!                         1\n",
       "Searched everywhere for something like this! Fits my needs perfectly.        1\n",
       "This little gadget made a huge difference in my daily routine. Thank you!    1\n",
       "Had such high hopes for this, but it just didn't work out for me.            1\n",
       "Based on my experience, I wouldn't recommend this product to a friend.       1\n",
       "Name: count, Length: 1878, dtype: int64"
      ]
     },
     "execution_count": 8,
     "metadata": {},
     "output_type": "execute_result"
    }
   ],
   "source": [
    "data['review'].value_counts()"
   ]
  },
  {
   "cell_type": "code",
   "execution_count": 9,
   "id": "605d83bc-96ef-4753-ab48-6a8b4c474e82",
   "metadata": {},
   "outputs": [
    {
     "data": {
      "text/plain": [
       "np.int64(0)"
      ]
     },
     "execution_count": 9,
     "metadata": {},
     "output_type": "execute_result"
    }
   ],
   "source": [
    "data['review'].duplicated().sum()\n"
   ]
  },
  {
   "cell_type": "code",
   "execution_count": 10,
   "id": "f33e0542-35bb-4d63-85a1-6f4f7f5bc8bb",
   "metadata": {},
   "outputs": [
    {
     "name": "stderr",
     "output_type": "stream",
     "text": [
      "C:\\Users\\vodla\\AppData\\Local\\Temp\\ipykernel_23516\\4236157563.py:3: SettingWithCopyWarning: \n",
      "A value is trying to be set on a copy of a slice from a DataFrame.\n",
      "Try using .loc[row_indexer,col_indexer] = value instead\n",
      "\n",
      "See the caveats in the documentation: https://pandas.pydata.org/pandas-docs/stable/user_guide/indexing.html#returning-a-view-versus-a-copy\n",
      "  data['label']=el.fit_transform(data['label'])\n"
     ]
    }
   ],
   "source": [
    "from sklearn.preprocessing import LabelEncoder\n",
    "el=LabelEncoder()\n",
    "data['label']=el.fit_transform(data['label'])"
   ]
  },
  {
   "cell_type": "code",
   "execution_count": 11,
   "id": "11aa5656-6491-424c-9332-f29d691d5e10",
   "metadata": {},
   "outputs": [
    {
     "data": {
      "text/html": [
       "<div>\n",
       "<style scoped>\n",
       "    .dataframe tbody tr th:only-of-type {\n",
       "        vertical-align: middle;\n",
       "    }\n",
       "\n",
       "    .dataframe tbody tr th {\n",
       "        vertical-align: top;\n",
       "    }\n",
       "\n",
       "    .dataframe thead th {\n",
       "        text-align: right;\n",
       "    }\n",
       "</style>\n",
       "<table border=\"1\" class=\"dataframe\">\n",
       "  <thead>\n",
       "    <tr style=\"text-align: right;\">\n",
       "      <th></th>\n",
       "      <th>label</th>\n",
       "      <th>review</th>\n",
       "    </tr>\n",
       "  </thead>\n",
       "  <tbody>\n",
       "    <tr>\n",
       "      <th>0</th>\n",
       "      <td>0</td>\n",
       "      <td>This product is acceptable.</td>\n",
       "    </tr>\n",
       "    <tr>\n",
       "      <th>1</th>\n",
       "      <td>0</td>\n",
       "      <td>The item performs adequately.</td>\n",
       "    </tr>\n",
       "    <tr>\n",
       "      <th>2</th>\n",
       "      <td>0</td>\n",
       "      <td>Functionality is satisfactory.</td>\n",
       "    </tr>\n",
       "    <tr>\n",
       "      <th>3</th>\n",
       "      <td>0</td>\n",
       "      <td>Overall experience: positive.</td>\n",
       "    </tr>\n",
       "    <tr>\n",
       "      <th>4</th>\n",
       "      <td>0</td>\n",
       "      <td>Meets minimum requirements.</td>\n",
       "    </tr>\n",
       "    <tr>\n",
       "      <th>...</th>\n",
       "      <td>...</td>\n",
       "      <td>...</td>\n",
       "    </tr>\n",
       "    <tr>\n",
       "      <th>1946</th>\n",
       "      <td>1</td>\n",
       "      <td>Someone gifted me this and honestly, I'm hooke...</td>\n",
       "    </tr>\n",
       "    <tr>\n",
       "      <th>1947</th>\n",
       "      <td>1</td>\n",
       "      <td>Searched everywhere for something like this! F...</td>\n",
       "    </tr>\n",
       "    <tr>\n",
       "      <th>1948</th>\n",
       "      <td>1</td>\n",
       "      <td>This little gadget made a huge difference in m...</td>\n",
       "    </tr>\n",
       "    <tr>\n",
       "      <th>1949</th>\n",
       "      <td>1</td>\n",
       "      <td>Had such high hopes for this, but it just didn...</td>\n",
       "    </tr>\n",
       "    <tr>\n",
       "      <th>1950</th>\n",
       "      <td>1</td>\n",
       "      <td>Based on my experience, I wouldn't recommend t...</td>\n",
       "    </tr>\n",
       "  </tbody>\n",
       "</table>\n",
       "<p>1878 rows × 2 columns</p>\n",
       "</div>"
      ],
      "text/plain": [
       "      label                                             review\n",
       "0         0                        This product is acceptable.\n",
       "1         0                      The item performs adequately.\n",
       "2         0                     Functionality is satisfactory.\n",
       "3         0                      Overall experience: positive.\n",
       "4         0                        Meets minimum requirements.\n",
       "...     ...                                                ...\n",
       "1946      1  Someone gifted me this and honestly, I'm hooke...\n",
       "1947      1  Searched everywhere for something like this! F...\n",
       "1948      1  This little gadget made a huge difference in m...\n",
       "1949      1  Had such high hopes for this, but it just didn...\n",
       "1950      1  Based on my experience, I wouldn't recommend t...\n",
       "\n",
       "[1878 rows x 2 columns]"
      ]
     },
     "execution_count": 11,
     "metadata": {},
     "output_type": "execute_result"
    }
   ],
   "source": [
    "data"
   ]
  },
  {
   "cell_type": "code",
   "execution_count": 12,
   "id": "fef15f15-42b1-4b69-b173-7c0c92968b4e",
   "metadata": {},
   "outputs": [
    {
     "data": {
      "text/plain": [
       "label\n",
       "1    994\n",
       "0    884\n",
       "Name: count, dtype: int64"
      ]
     },
     "execution_count": 12,
     "metadata": {},
     "output_type": "execute_result"
    }
   ],
   "source": [
    "data['label'].value_counts()"
   ]
  },
  {
   "cell_type": "code",
   "execution_count": 13,
   "id": "0cf14f3d-510a-4e1b-813a-fbc50b3043a9",
   "metadata": {},
   "outputs": [],
   "source": [
    "import re\n",
    "import string\n",
    "import nltk\n",
    "from nltk.corpus import stopwords\n",
    "from nltk.stem import PorterStemmer\n",
    "\n",
    "stop_words = set(stopwords.words('english'))\n",
    "stemmer = PorterStemmer()"
   ]
  },
  {
   "cell_type": "code",
   "execution_count": 14,
   "id": "c3eebee7-9b35-47c9-adf2-94262b093107",
   "metadata": {},
   "outputs": [],
   "source": [
    "def clean_text(text):\n",
    "    text = text.lower()\n",
    "    text = re.sub(r'http\\S+|www.\\S+', '', text)\n",
    "    text = text.translate(str.maketrans('', '', string.punctuation))\n",
    "    text = re.sub(r'\\d+', '', text)\n",
    "    text = text.strip()\n",
    "    tokens = text.split()\n",
    "    cleaned_tokens = [stemmer.stem(word) for word in tokens if word not in stop_words]\n",
    "    return ' '.join(cleaned_tokens)\n"
   ]
  },
  {
   "cell_type": "code",
   "execution_count": 15,
   "id": "b7cb3ff2-4818-4213-b9ee-4b5a328f0ac5",
   "metadata": {},
   "outputs": [
    {
     "name": "stderr",
     "output_type": "stream",
     "text": [
      "C:\\Users\\vodla\\AppData\\Local\\Temp\\ipykernel_23516\\2216223471.py:1: SettingWithCopyWarning: \n",
      "A value is trying to be set on a copy of a slice from a DataFrame.\n",
      "Try using .loc[row_indexer,col_indexer] = value instead\n",
      "\n",
      "See the caveats in the documentation: https://pandas.pydata.org/pandas-docs/stable/user_guide/indexing.html#returning-a-view-versus-a-copy\n",
      "  data['review']=data['review'].apply(clean_text)\n"
     ]
    }
   ],
   "source": [
    "data['review']=data['review'].apply(clean_text)"
   ]
  },
  {
   "cell_type": "code",
   "execution_count": 16,
   "id": "a75a8433-2e89-4180-8176-3a6fa1dca88d",
   "metadata": {},
   "outputs": [
    {
     "data": {
      "text/html": [
       "<div>\n",
       "<style scoped>\n",
       "    .dataframe tbody tr th:only-of-type {\n",
       "        vertical-align: middle;\n",
       "    }\n",
       "\n",
       "    .dataframe tbody tr th {\n",
       "        vertical-align: top;\n",
       "    }\n",
       "\n",
       "    .dataframe thead th {\n",
       "        text-align: right;\n",
       "    }\n",
       "</style>\n",
       "<table border=\"1\" class=\"dataframe\">\n",
       "  <thead>\n",
       "    <tr style=\"text-align: right;\">\n",
       "      <th></th>\n",
       "      <th>label</th>\n",
       "      <th>review</th>\n",
       "    </tr>\n",
       "  </thead>\n",
       "  <tbody>\n",
       "    <tr>\n",
       "      <th>0</th>\n",
       "      <td>0</td>\n",
       "      <td>product accept</td>\n",
       "    </tr>\n",
       "    <tr>\n",
       "      <th>1</th>\n",
       "      <td>0</td>\n",
       "      <td>item perform adequ</td>\n",
       "    </tr>\n",
       "    <tr>\n",
       "      <th>2</th>\n",
       "      <td>0</td>\n",
       "      <td>function satisfactori</td>\n",
       "    </tr>\n",
       "    <tr>\n",
       "      <th>3</th>\n",
       "      <td>0</td>\n",
       "      <td>overal experi posit</td>\n",
       "    </tr>\n",
       "    <tr>\n",
       "      <th>4</th>\n",
       "      <td>0</td>\n",
       "      <td>meet minimum requir</td>\n",
       "    </tr>\n",
       "    <tr>\n",
       "      <th>...</th>\n",
       "      <td>...</td>\n",
       "      <td>...</td>\n",
       "    </tr>\n",
       "    <tr>\n",
       "      <th>1946</th>\n",
       "      <td>1</td>\n",
       "      <td>someon gift honestli im hook</td>\n",
       "    </tr>\n",
       "    <tr>\n",
       "      <th>1947</th>\n",
       "      <td>1</td>\n",
       "      <td>search everywher someth like fit need perfectli</td>\n",
       "    </tr>\n",
       "    <tr>\n",
       "      <th>1948</th>\n",
       "      <td>1</td>\n",
       "      <td>littl gadget made huge differ daili routin thank</td>\n",
       "    </tr>\n",
       "    <tr>\n",
       "      <th>1949</th>\n",
       "      <td>1</td>\n",
       "      <td>high hope didnt work</td>\n",
       "    </tr>\n",
       "    <tr>\n",
       "      <th>1950</th>\n",
       "      <td>1</td>\n",
       "      <td>base experi wouldnt recommend product friend</td>\n",
       "    </tr>\n",
       "  </tbody>\n",
       "</table>\n",
       "<p>1878 rows × 2 columns</p>\n",
       "</div>"
      ],
      "text/plain": [
       "      label                                            review\n",
       "0         0                                    product accept\n",
       "1         0                                item perform adequ\n",
       "2         0                             function satisfactori\n",
       "3         0                               overal experi posit\n",
       "4         0                               meet minimum requir\n",
       "...     ...                                               ...\n",
       "1946      1                      someon gift honestli im hook\n",
       "1947      1   search everywher someth like fit need perfectli\n",
       "1948      1  littl gadget made huge differ daili routin thank\n",
       "1949      1                              high hope didnt work\n",
       "1950      1      base experi wouldnt recommend product friend\n",
       "\n",
       "[1878 rows x 2 columns]"
      ]
     },
     "execution_count": 16,
     "metadata": {},
     "output_type": "execute_result"
    }
   ],
   "source": [
    "data"
   ]
  },
  {
   "cell_type": "code",
   "execution_count": 28,
   "id": "38bfc344-0272-4d7c-ade7-2e7bd64670c5",
   "metadata": {},
   "outputs": [],
   "source": [
    "from sklearn.feature_extraction.text import TfidfVectorizer\n",
    "from sklearn.model_selection import train_test_split\n",
    "import numpy as np \n",
    "tfidf_vectorizer = TfidfVectorizer(max_features=5001)\n",
    "X = tfidf_vectorizer.fit_transform(data['review']).toarray() \n",
    "\n",
    "y = data['label']\n",
    "\n",
    "X_train, X_test, y_train, y_test = train_test_split(X, y, test_size=0.2, random_state=42)"
   ]
  },
  {
   "cell_type": "code",
   "execution_count": 29,
   "id": "0d0227e9-62d6-42e8-8bcd-d578a9fc0ebd",
   "metadata": {},
   "outputs": [],
   "source": [
    "from sklearn.naive_bayes import MultinomialNB\n",
    "from sklearn.linear_model import LogisticRegression\n",
    "from sklearn.svm import LinearSVC\n",
    "from sklearn.ensemble import RandomForestClassifier\n",
    "from sklearn.neighbors import KNeighborsClassifier\n",
    "from sklearn.ensemble import ExtraTreesClassifier\n",
    "from sklearn.ensemble import HistGradientBoostingClassifier\n",
    "from sklearn.metrics import classification_report, accuracy_score"
   ]
  },
  {
   "cell_type": "code",
   "execution_count": 30,
   "id": "00c75983-11ed-4862-a65b-70130d95a5c3",
   "metadata": {},
   "outputs": [
    {
     "name": "stdout",
     "output_type": "stream",
     "text": [
      " Naive Bayes Accuracy : 0.976063829787234\n",
      "              precision    recall  f1-score   support\n",
      "\n",
      "           0       0.97      0.98      0.97       173\n",
      "           1       0.98      0.98      0.98       203\n",
      "\n",
      "    accuracy                           0.98       376\n",
      "   macro avg       0.98      0.98      0.98       376\n",
      "weighted avg       0.98      0.98      0.98       376\n",
      "\n"
     ]
    }
   ],
   "source": [
    "model1=MultinomialNB()\n",
    "model1.fit(X_train,y_train)\n",
    "y_pred1=model1.predict(X_test)\n",
    "acc1=accuracy_score(y_test,y_pred1)\n",
    "print(f\" Naive Bayes Accuracy : {acc1}\")\n",
    "print(classification_report(y_test,y_pred1))"
   ]
  },
  {
   "cell_type": "code",
   "execution_count": 31,
   "id": "4fb0a8e0-0646-421c-a69f-fc44c6180d14",
   "metadata": {},
   "outputs": [
    {
     "name": "stdout",
     "output_type": "stream",
     "text": [
      " Logistic Regression Accuracy : 0.9787234042553191\n",
      "              precision    recall  f1-score   support\n",
      "\n",
      "           0       0.99      0.96      0.98       173\n",
      "           1       0.97      1.00      0.98       203\n",
      "\n",
      "    accuracy                           0.98       376\n",
      "   macro avg       0.98      0.98      0.98       376\n",
      "weighted avg       0.98      0.98      0.98       376\n",
      "\n"
     ]
    }
   ],
   "source": [
    "model2= LogisticRegression()\n",
    "model2.fit(X_train,y_train)\n",
    "y_pred2=model2.predict(X_test)\n",
    "acc2=accuracy_score(y_test,y_pred2)\n",
    "print(f\" Logistic Regression Accuracy : {acc2}\")\n",
    "print(classification_report(y_test,y_pred2))"
   ]
  },
  {
   "cell_type": "code",
   "execution_count": 32,
   "id": "2eaf03b4-0b28-415b-90c6-4c3288379cbd",
   "metadata": {},
   "outputs": [
    {
     "name": "stdout",
     "output_type": "stream",
     "text": [
      " SVM Accuracy : 0.973404255319149\n",
      "              precision    recall  f1-score   support\n",
      "\n",
      "           0       0.99      0.95      0.97       173\n",
      "           1       0.96      0.99      0.98       203\n",
      "\n",
      "    accuracy                           0.97       376\n",
      "   macro avg       0.97      0.97      0.97       376\n",
      "weighted avg       0.97      0.97      0.97       376\n",
      "\n"
     ]
    }
   ],
   "source": [
    "model3=LinearSVC()\n",
    "model3.fit(X_train,y_train)\n",
    "y_pred3=model3.predict(X_test)\n",
    "acc3=accuracy_score(y_test,y_pred3)\n",
    "print(f\" SVM Accuracy : {acc3}\")\n",
    "print(classification_report(y_test,y_pred3))"
   ]
  },
  {
   "cell_type": "code",
   "execution_count": 33,
   "id": "1be89eea-1fe3-4535-919c-355bbe6e9b16",
   "metadata": {},
   "outputs": [
    {
     "name": "stdout",
     "output_type": "stream",
     "text": [
      " Random Forest Accuracy : 0.9813829787234043\n",
      "              precision    recall  f1-score   support\n",
      "\n",
      "           0       0.98      0.98      0.98       173\n",
      "           1       0.98      0.99      0.98       203\n",
      "\n",
      "    accuracy                           0.98       376\n",
      "   macro avg       0.98      0.98      0.98       376\n",
      "weighted avg       0.98      0.98      0.98       376\n",
      "\n"
     ]
    }
   ],
   "source": [
    "model4=RandomForestClassifier()\n",
    "model4.fit(X_train,y_train)\n",
    "y_pred4=model4.predict(X_test)\n",
    "acc4=accuracy_score(y_test,y_pred4)\n",
    "print(f\" Random Forest Accuracy : {acc4}\")\n",
    "print(classification_report(y_test,y_pred4))"
   ]
  },
  {
   "cell_type": "code",
   "execution_count": 34,
   "id": "5f1525c2-fea6-49a4-9ee9-10b566856022",
   "metadata": {},
   "outputs": [
    {
     "name": "stdout",
     "output_type": "stream",
     "text": [
      " KNN Accuracy : 0.9547872340425532\n",
      "              precision    recall  f1-score   support\n",
      "\n",
      "           0       0.92      0.98      0.95       173\n",
      "           1       0.98      0.93      0.96       203\n",
      "\n",
      "    accuracy                           0.95       376\n",
      "   macro avg       0.95      0.96      0.95       376\n",
      "weighted avg       0.96      0.95      0.95       376\n",
      "\n"
     ]
    }
   ],
   "source": [
    "model5=KNeighborsClassifier()\n",
    "model5.fit(X_train,y_train)\n",
    "y_pred5=model5.predict(X_test)\n",
    "acc5=accuracy_score(y_test,y_pred5)\n",
    "print(f\" KNN Accuracy : {acc5}\")\n",
    "print(classification_report(y_test,y_pred5))"
   ]
  },
  {
   "cell_type": "code",
   "execution_count": 35,
   "id": "580d34f1-def5-42e2-b6ab-485e28efa953",
   "metadata": {
    "scrolled": true
   },
   "outputs": [
    {
     "name": "stdout",
     "output_type": "stream",
     "text": [
      "Extra Trees Accuracy: 0.9813829787234043\n",
      "              precision    recall  f1-score   support\n",
      "\n",
      "           0       0.97      0.99      0.98       173\n",
      "           1       0.99      0.97      0.98       203\n",
      "\n",
      "    accuracy                           0.98       376\n",
      "   macro avg       0.98      0.98      0.98       376\n",
      "weighted avg       0.98      0.98      0.98       376\n",
      "\n"
     ]
    }
   ],
   "source": [
    "model6 = ExtraTreesClassifier()\n",
    "model6.fit(X_train, y_train)\n",
    "y_pred6 = model6.predict(X_test)\n",
    "acc6 = accuracy_score(y_test, y_pred6)\n",
    "print(f\"Extra Trees Accuracy: {acc6}\")\n",
    "print(classification_report(y_test, y_pred6))"
   ]
  },
  {
   "cell_type": "code",
   "execution_count": 36,
   "id": "74ff00ae-f91f-4bfd-bd7a-58bf8ddb2250",
   "metadata": {},
   "outputs": [
    {
     "name": "stdout",
     "output_type": "stream",
     "text": [
      "HistGradientBoosting Accuracy: 0.8829787234042553\n",
      "              precision    recall  f1-score   support\n",
      "\n",
      "           0       0.82      0.96      0.88       173\n",
      "           1       0.96      0.82      0.88       203\n",
      "\n",
      "    accuracy                           0.88       376\n",
      "   macro avg       0.89      0.89      0.88       376\n",
      "weighted avg       0.89      0.88      0.88       376\n",
      "\n"
     ]
    }
   ],
   "source": [
    "model7 = HistGradientBoostingClassifier()\n",
    "model7.fit(X_train, y_train)\n",
    "y_pred7 = model7.predict(X_test)\n",
    "acc7 = accuracy_score(y_test, y_pred7)\n",
    "print(f\"HistGradientBoosting Accuracy: {acc7}\")\n",
    "print(classification_report(y_test, y_pred7))"
   ]
  },
  {
   "cell_type": "code",
   "execution_count": 37,
   "id": "063b1cbf-c84d-4544-ba12-7d3a7540c275",
   "metadata": {},
   "outputs": [
    {
     "name": "stdout",
     "output_type": "stream",
     "text": [
      "                 Model  Accuracy  Precision    Recall  F1 Score\n",
      "5          Extra Trees  0.981383   0.994949  0.970443  0.982544\n",
      "3        Random Forest  0.981383   0.980392  0.985222  0.982801\n",
      "1  Logistic Regression  0.978723   0.966507  0.995074  0.980583\n",
      "0          Naive Bayes  0.976064   0.980198  0.975369  0.977778\n",
      "2      SVM (LinearSVC)  0.973404   0.961722  0.990148  0.975728\n",
      "4                  KNN  0.954787   0.984375  0.931034  0.956962\n"
     ]
    }
   ],
   "source": [
    "import pandas as pd\n",
    "from sklearn.metrics import precision_score, recall_score, f1_score\n",
    "\n",
    "results = {\n",
    "    'Model': ['Naive Bayes', 'Logistic Regression', 'SVM (LinearSVC)', 'Random Forest', 'KNN', 'Extra Trees'],\n",
    "    'Accuracy': [acc1, acc2, acc3, acc4, acc5, acc6],\n",
    "    'Precision': [\n",
    "        precision_score(y_test, y_pred1),\n",
    "        precision_score(y_test, y_pred2),\n",
    "        precision_score(y_test, y_pred3),\n",
    "        precision_score(y_test, y_pred4),\n",
    "        precision_score(y_test, y_pred5),\n",
    "        precision_score(y_test, y_pred6)\n",
    "    ],\n",
    "    'Recall': [\n",
    "        recall_score(y_test, y_pred1),\n",
    "        recall_score(y_test, y_pred2),\n",
    "        recall_score(y_test, y_pred3),\n",
    "        recall_score(y_test, y_pred4),\n",
    "        recall_score(y_test, y_pred5),\n",
    "        recall_score(y_test, y_pred6)\n",
    "    ],\n",
    "    'F1 Score': [\n",
    "        f1_score(y_test, y_pred1),\n",
    "        f1_score(y_test, y_pred2),\n",
    "        f1_score(y_test, y_pred3),\n",
    "        f1_score(y_test, y_pred4),\n",
    "        f1_score(y_test, y_pred5),\n",
    "        f1_score(y_test, y_pred6)\n",
    "    ]\n",
    "}\n",
    "\n",
    "results_df = pd.DataFrame(results)\n",
    "\n",
    "results_df = results_df.sort_values(by='Accuracy', ascending=False)\n",
    "\n",
    "print(results_df)\n"
   ]
  },
  {
   "cell_type": "code",
   "execution_count": 38,
   "id": "cec1946b-ab5b-4a02-a8c5-6eb4fed96041",
   "metadata": {},
   "outputs": [
    {
     "data": {
      "text/plain": [
       "['review_fake_detection_model.pkl']"
      ]
     },
     "execution_count": 38,
     "metadata": {},
     "output_type": "execute_result"
    }
   ],
   "source": [
    "import joblib\n",
    "joblib.dump(tfidf_vectorizer, 'tfidf_vectorizer_review.pkl')\n",
    "joblib.dump(model5, 'review_fake_detection_model.pkl')\n"
   ]
  },
  {
   "cell_type": "code",
   "execution_count": null,
   "id": "bf5792ec-d9f8-44ce-a044-b5778656848d",
   "metadata": {},
   "outputs": [],
   "source": []
  }
 ],
 "metadata": {
  "kernelspec": {
   "display_name": "Python 3 (ipykernel)",
   "language": "python",
   "name": "python3"
  },
  "language_info": {
   "codemirror_mode": {
    "name": "ipython",
    "version": 3
   },
   "file_extension": ".py",
   "mimetype": "text/x-python",
   "name": "python",
   "nbconvert_exporter": "python",
   "pygments_lexer": "ipython3",
   "version": "3.13.5"
  }
 },
 "nbformat": 4,
 "nbformat_minor": 5
}
